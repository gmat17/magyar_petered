{
 "cells": [
  {
   "cell_type": "code",
   "execution_count": 4,
   "id": "3d98ec21",
   "metadata": {},
   "outputs": [],
   "source": [
    "import pandas as pd"
   ]
  },
  {
   "cell_type": "markdown",
   "id": "a6eca811",
   "metadata": {
    "vscode": {
     "languageId": "powershell"
    }
   },
   "source": [
    "## Geocode scraping result"
   ]
  },
  {
   "cell_type": "code",
   "execution_count": 6,
   "id": "9ab13751",
   "metadata": {
    "language_info": {
     "name": "polyglot-notebook"
    },
    "polyglot_notebook": {
     "kernelName": "csharp"
    }
   },
   "outputs": [],
   "source": [
    "df=pd.read_csv('mayor_offices_saved.csv')"
   ]
  },
  {
   "cell_type": "code",
   "execution_count": 7,
   "id": "9c344d1f",
   "metadata": {},
   "outputs": [
    {
     "data": {
      "text/html": [
       "<div>\n",
       "<style scoped>\n",
       "    .dataframe tbody tr th:only-of-type {\n",
       "        vertical-align: middle;\n",
       "    }\n",
       "\n",
       "    .dataframe tbody tr th {\n",
       "        vertical-align: top;\n",
       "    }\n",
       "\n",
       "    .dataframe thead th {\n",
       "        text-align: right;\n",
       "    }\n",
       "</style>\n",
       "<table border=\"1\" class=\"dataframe\">\n",
       "  <thead>\n",
       "    <tr style=\"text-align: right;\">\n",
       "      <th></th>\n",
       "      <th>href</th>\n",
       "      <th>name</th>\n",
       "      <th>address</th>\n",
       "    </tr>\n",
       "  </thead>\n",
       "  <tbody>\n",
       "    <tr>\n",
       "      <th>0</th>\n",
       "      <td>/telepules/Aba</td>\n",
       "      <td>Polgármesteri Hivatal Aba</td>\n",
       "      <td>8127 Aba, Rákóczi u. 12.</td>\n",
       "    </tr>\n",
       "    <tr>\n",
       "      <th>1</th>\n",
       "      <td>/telepules/Ab%e1dszal%f3k</td>\n",
       "      <td>Polgármesteri Hivatal Abádszalók</td>\n",
       "      <td>5241 Abádszalók, Deák Ferenc út 12.</td>\n",
       "    </tr>\n",
       "    <tr>\n",
       "      <th>2</th>\n",
       "      <td>/telepules/Aba%fajalp%e1r</td>\n",
       "      <td>Polgármesteri Hivatal Abaújkér</td>\n",
       "      <td>3882 Abaújalpár, Abaújalpár Petőfi S. u. 54.</td>\n",
       "    </tr>\n",
       "    <tr>\n",
       "      <th>3</th>\n",
       "      <td>/telepules/Aba%fajalp%e1r</td>\n",
       "      <td>Polgármesteri Hivatal Abaújkér</td>\n",
       "      <td>3882 Abaújalpár, Abaújkér Rákóczi utca 26.</td>\n",
       "    </tr>\n",
       "    <tr>\n",
       "      <th>4</th>\n",
       "      <td>/telepules/Aba%fajlak</td>\n",
       "      <td>Polgármesteri Hivatal Gadna</td>\n",
       "      <td>3815 Abaújlak, Abaújlak Fő utca 82.</td>\n",
       "    </tr>\n",
       "    <tr>\n",
       "      <th>...</th>\n",
       "      <td>...</td>\n",
       "      <td>...</td>\n",
       "      <td>...</td>\n",
       "    </tr>\n",
       "    <tr>\n",
       "      <th>2745</th>\n",
       "      <td>/telepules/%d6rv%e9nyes</td>\n",
       "      <td>Polgármesteri Hivatal Balatonudvari</td>\n",
       "      <td>8242 Örvényes, Ady E. u. 16.</td>\n",
       "    </tr>\n",
       "    <tr>\n",
       "      <th>2746</th>\n",
       "      <td>/telepules/%d6rv%e9nyes</td>\n",
       "      <td>Polgármesteri Hivatal Balatonudvari</td>\n",
       "      <td>8242 Örvényes, Fenyves u. 1.</td>\n",
       "    </tr>\n",
       "    <tr>\n",
       "      <th>2747</th>\n",
       "      <td>/telepules/%d6sk%fc</td>\n",
       "      <td>Polgármesteri Hivatal Öskü</td>\n",
       "      <td>8191 Öskü, Szabadság tér 1.</td>\n",
       "    </tr>\n",
       "    <tr>\n",
       "      <th>2748</th>\n",
       "      <td>/telepules/%d6ttev%e9ny</td>\n",
       "      <td>Polgármesteri Hivatal Öttevény</td>\n",
       "      <td>9153 Öttevény, Fő u. 100.</td>\n",
       "    </tr>\n",
       "    <tr>\n",
       "      <th>2749</th>\n",
       "      <td>/telepules/%d6tt%f6m%f6s</td>\n",
       "      <td>Polgármesteri Hivatal Öttömös</td>\n",
       "      <td>6784 Öttömös, Felszabadulás u. 12.</td>\n",
       "    </tr>\n",
       "  </tbody>\n",
       "</table>\n",
       "<p>2750 rows × 3 columns</p>\n",
       "</div>"
      ],
      "text/plain": [
       "                           href                                 name  \\\n",
       "0                /telepules/Aba            Polgármesteri Hivatal Aba   \n",
       "1     /telepules/Ab%e1dszal%f3k     Polgármesteri Hivatal Abádszalók   \n",
       "2     /telepules/Aba%fajalp%e1r       Polgármesteri Hivatal Abaújkér   \n",
       "3     /telepules/Aba%fajalp%e1r       Polgármesteri Hivatal Abaújkér   \n",
       "4         /telepules/Aba%fajlak          Polgármesteri Hivatal Gadna   \n",
       "...                         ...                                  ...   \n",
       "2745    /telepules/%d6rv%e9nyes  Polgármesteri Hivatal Balatonudvari   \n",
       "2746    /telepules/%d6rv%e9nyes  Polgármesteri Hivatal Balatonudvari   \n",
       "2747        /telepules/%d6sk%fc           Polgármesteri Hivatal Öskü   \n",
       "2748    /telepules/%d6ttev%e9ny       Polgármesteri Hivatal Öttevény   \n",
       "2749   /telepules/%d6tt%f6m%f6s        Polgármesteri Hivatal Öttömös   \n",
       "\n",
       "                                           address  \n",
       "0                         8127 Aba, Rákóczi u. 12.  \n",
       "1              5241 Abádszalók, Deák Ferenc út 12.  \n",
       "2     3882 Abaújalpár, Abaújalpár Petőfi S. u. 54.  \n",
       "3       3882 Abaújalpár, Abaújkér Rákóczi utca 26.  \n",
       "4              3815 Abaújlak, Abaújlak Fő utca 82.  \n",
       "...                                            ...  \n",
       "2745                  8242 Örvényes, Ady E. u. 16.  \n",
       "2746                  8242 Örvényes, Fenyves u. 1.  \n",
       "2747                   8191 Öskü, Szabadság tér 1.  \n",
       "2748                     9153 Öttevény, Fő u. 100.  \n",
       "2749            6784 Öttömös, Felszabadulás u. 12.  \n",
       "\n",
       "[2750 rows x 3 columns]"
      ]
     },
     "execution_count": 7,
     "metadata": {},
     "output_type": "execute_result"
    }
   ],
   "source": [
    "df"
   ]
  }
 ],
 "metadata": {
  "kernelspec": {
   "display_name": "venv",
   "language": "python",
   "name": "python3"
  },
  "language_info": {
   "codemirror_mode": {
    "name": "ipython",
    "version": 3
   },
   "file_extension": ".py",
   "mimetype": "text/x-python",
   "name": "python",
   "nbconvert_exporter": "python",
   "pygments_lexer": "ipython3",
   "version": "3.12.7"
  },
  "polyglot_notebook": {
   "kernelInfo": {
    "defaultKernelName": "csharp",
    "items": [
     {
      "aliases": [],
      "name": "csharp"
     }
    ]
   }
  }
 },
 "nbformat": 4,
 "nbformat_minor": 5
}
