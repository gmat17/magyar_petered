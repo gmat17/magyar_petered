{
 "cells": [
  {
   "cell_type": "markdown",
   "id": "94d5f262-499d-4c90-924f-0f14c90810d4",
   "metadata": {},
   "source": [
    "This notebook follows the R session where I got the duration and distance matrices. Here, I would like to visualise the advantage of the process with nice graphs and/or maps."
   ]
  },
  {
   "cell_type": "markdown",
   "id": "32797457-837b-470d-b2f1-c5a3faa19d8c",
   "metadata": {},
   "source": [
    "## df_sample for general explanation"
   ]
  },
  {
   "cell_type": "code",
   "execution_count": 50,
   "id": "3af3ac03-3626-4054-8c9a-9669ce2ed596",
   "metadata": {},
   "outputs": [],
   "source": [
    "import pandas as pd\n",
    "import geopandas as gpd\n",
    "from shapely.geometry import shape\n",
    "from matplotlib.colors import LinearSegmentedColormap\n",
    "import requests\n",
    "import numpy as np"
   ]
  },
  {
   "cell_type": "code",
   "execution_count": 18,
   "id": "cb25235f-6952-45fb-b27c-19570bf298d9",
   "metadata": {},
   "outputs": [],
   "source": [
    "df_sample=pd.read_csv('data/sample.csv').drop(columns=['coord.x','coord.y'])"
   ]
  },
  {
   "cell_type": "code",
   "execution_count": 40,
   "id": "42ccc4d1-3d6a-4f6c-9e26-42de5bd9511c",
   "metadata": {},
   "outputs": [],
   "source": [
    "gdf=gpd.GeoDataFrame(df_sample, geometry=gpd.points_from_xy(df_sample.x,df_sample.y),crs=4326)"
   ]
  },
  {
   "cell_type": "code",
   "execution_count": 48,
   "id": "868267be-463d-4583-88c9-574925a985b2",
   "metadata": {},
   "outputs": [
    {
     "data": {
      "text/html": [
       "<div style=\"width:100%;\"><div style=\"position:relative;width:100%;height:0;padding-bottom:60%;\"><span style=\"color:#565656\">Make this Notebook Trusted to load map: File -> Trust Notebook</span><iframe srcdoc=\"&lt;!DOCTYPE html&gt;\n",
       "&lt;html&gt;\n",
       "&lt;head&gt;\n",
       "    \n",
       "    &lt;meta http-equiv=&quot;content-type&quot; content=&quot;text/html; charset=UTF-8&quot; /&gt;\n",
       "    \n",
       "        &lt;script&gt;\n",
       "            L_NO_TOUCH = false;\n",
       "            L_DISABLE_3D = false;\n",
       "        &lt;/script&gt;\n",
       "    \n",
       "    &lt;style&gt;html, body {width: 100%;height: 100%;margin: 0;padding: 0;}&lt;/style&gt;\n",
       "    &lt;style&gt;#map {position:absolute;top:0;bottom:0;right:0;left:0;}&lt;/style&gt;\n",
       "    &lt;script src=&quot;https://cdn.jsdelivr.net/npm/leaflet@1.9.3/dist/leaflet.js&quot;&gt;&lt;/script&gt;\n",
       "    &lt;script src=&quot;https://code.jquery.com/jquery-3.7.1.min.js&quot;&gt;&lt;/script&gt;\n",
       "    &lt;script src=&quot;https://cdn.jsdelivr.net/npm/bootstrap@5.2.2/dist/js/bootstrap.bundle.min.js&quot;&gt;&lt;/script&gt;\n",
       "    &lt;script src=&quot;https://cdnjs.cloudflare.com/ajax/libs/Leaflet.awesome-markers/2.0.2/leaflet.awesome-markers.js&quot;&gt;&lt;/script&gt;\n",
       "    &lt;link rel=&quot;stylesheet&quot; href=&quot;https://cdn.jsdelivr.net/npm/leaflet@1.9.3/dist/leaflet.css&quot;/&gt;\n",
       "    &lt;link rel=&quot;stylesheet&quot; href=&quot;https://cdn.jsdelivr.net/npm/bootstrap@5.2.2/dist/css/bootstrap.min.css&quot;/&gt;\n",
       "    &lt;link rel=&quot;stylesheet&quot; href=&quot;https://netdna.bootstrapcdn.com/bootstrap/3.0.0/css/bootstrap-glyphicons.css&quot;/&gt;\n",
       "    &lt;link rel=&quot;stylesheet&quot; href=&quot;https://cdn.jsdelivr.net/npm/@fortawesome/fontawesome-free@6.2.0/css/all.min.css&quot;/&gt;\n",
       "    &lt;link rel=&quot;stylesheet&quot; href=&quot;https://cdnjs.cloudflare.com/ajax/libs/Leaflet.awesome-markers/2.0.2/leaflet.awesome-markers.css&quot;/&gt;\n",
       "    &lt;link rel=&quot;stylesheet&quot; href=&quot;https://cdn.jsdelivr.net/gh/python-visualization/folium/folium/templates/leaflet.awesome.rotate.min.css&quot;/&gt;\n",
       "    \n",
       "            &lt;meta name=&quot;viewport&quot; content=&quot;width=device-width,\n",
       "                initial-scale=1.0, maximum-scale=1.0, user-scalable=no&quot; /&gt;\n",
       "            &lt;style&gt;\n",
       "                #map_c2efb783769aaaacd4aba4823eed8a26 {\n",
       "                    position: relative;\n",
       "                    width: 100.0%;\n",
       "                    height: 100.0%;\n",
       "                    left: 0.0%;\n",
       "                    top: 0.0%;\n",
       "                }\n",
       "                .leaflet-container { font-size: 1rem; }\n",
       "            &lt;/style&gt;\n",
       "        \n",
       "    \n",
       "                    &lt;style&gt;\n",
       "                        .foliumtooltip {\n",
       "                            \n",
       "                        }\n",
       "                       .foliumtooltip table{\n",
       "                            margin: auto;\n",
       "                        }\n",
       "                        .foliumtooltip tr{\n",
       "                            text-align: left;\n",
       "                        }\n",
       "                        .foliumtooltip th{\n",
       "                            padding: 2px; padding-right: 8px;\n",
       "                        }\n",
       "                    &lt;/style&gt;\n",
       "            \n",
       "&lt;/head&gt;\n",
       "&lt;body&gt;\n",
       "    \n",
       "    \n",
       "            &lt;div class=&quot;folium-map&quot; id=&quot;map_c2efb783769aaaacd4aba4823eed8a26&quot; &gt;&lt;/div&gt;\n",
       "        \n",
       "&lt;/body&gt;\n",
       "&lt;script&gt;\n",
       "    \n",
       "    \n",
       "            var map_c2efb783769aaaacd4aba4823eed8a26 = L.map(\n",
       "                &quot;map_c2efb783769aaaacd4aba4823eed8a26&quot;,\n",
       "                {\n",
       "                    center: [47.5262, 19.37258],\n",
       "                    crs: L.CRS.EPSG3857,\n",
       "                    ...{\n",
       "  &quot;zoom&quot;: 10,\n",
       "  &quot;zoomControl&quot;: true,\n",
       "  &quot;preferCanvas&quot;: false,\n",
       "}\n",
       "\n",
       "                }\n",
       "            );\n",
       "            L.control.scale().addTo(map_c2efb783769aaaacd4aba4823eed8a26);\n",
       "\n",
       "            \n",
       "\n",
       "        \n",
       "    \n",
       "            var tile_layer_c0ff395eafbe67aca8e00313c62efce1 = L.tileLayer(\n",
       "                &quot;https://a.basemaps.cartocdn.com/dark_all/{z}/{x}/{y}{r}.png&quot;,\n",
       "                {\n",
       "  &quot;minZoom&quot;: 0,\n",
       "  &quot;maxZoom&quot;: 20,\n",
       "  &quot;maxNativeZoom&quot;: 20,\n",
       "  &quot;noWrap&quot;: false,\n",
       "  &quot;attribution&quot;: &quot;\\u0026copy; \\u003ca href=\\&quot;https://www.openstreetmap.org/copyright\\&quot;\\u003eOpenStreetMap\\u003c/a\\u003e contributors \\u0026copy; \\u003ca href=\\&quot;https://carto.com/attributions\\&quot;\\u003eCARTO\\u003c/a\\u003e&quot;,\n",
       "  &quot;subdomains&quot;: &quot;abc&quot;,\n",
       "  &quot;detectRetina&quot;: false,\n",
       "  &quot;tms&quot;: false,\n",
       "  &quot;opacity&quot;: 1,\n",
       "}\n",
       "\n",
       "            );\n",
       "        \n",
       "    \n",
       "            tile_layer_c0ff395eafbe67aca8e00313c62efce1.addTo(map_c2efb783769aaaacd4aba4823eed8a26);\n",
       "        \n",
       "    \n",
       "            map_c2efb783769aaaacd4aba4823eed8a26.fitBounds(\n",
       "                [[46.53214, 16.77583], [48.52026, 21.96933]],\n",
       "                {}\n",
       "            );\n",
       "        \n",
       "    \n",
       "        function geo_json_11a8fbf6ac3b32073d85d08c4c3247b1_styler(feature) {\n",
       "            switch(feature.id) {\n",
       "                default:\n",
       "                    return {&quot;fillOpacity&quot;: 0.5, &quot;weight&quot;: 2};\n",
       "            }\n",
       "        }\n",
       "        function geo_json_11a8fbf6ac3b32073d85d08c4c3247b1_highlighter(feature) {\n",
       "            switch(feature.id) {\n",
       "                default:\n",
       "                    return {&quot;fillOpacity&quot;: 0.75};\n",
       "            }\n",
       "        }\n",
       "        function geo_json_11a8fbf6ac3b32073d85d08c4c3247b1_pointToLayer(feature, latlng) {\n",
       "            var opts = {&quot;bubblingMouseEvents&quot;: true, &quot;color&quot;: &quot;#3388ff&quot;, &quot;dashArray&quot;: null, &quot;dashOffset&quot;: null, &quot;fill&quot;: true, &quot;fillColor&quot;: &quot;#3388ff&quot;, &quot;fillOpacity&quot;: 0.2, &quot;fillRule&quot;: &quot;evenodd&quot;, &quot;lineCap&quot;: &quot;round&quot;, &quot;lineJoin&quot;: &quot;round&quot;, &quot;opacity&quot;: 1.0, &quot;radius&quot;: 2, &quot;stroke&quot;: true, &quot;weight&quot;: 3};\n",
       "            \n",
       "            let style = geo_json_11a8fbf6ac3b32073d85d08c4c3247b1_styler(feature)\n",
       "            Object.assign(opts, style)\n",
       "            \n",
       "            return new L.CircleMarker(latlng, opts)\n",
       "        }\n",
       "\n",
       "        function geo_json_11a8fbf6ac3b32073d85d08c4c3247b1_onEachFeature(feature, layer) {\n",
       "            layer.on({\n",
       "                mouseout: function(e) {\n",
       "                    if(typeof e.target.setStyle === &quot;function&quot;){\n",
       "                            geo_json_11a8fbf6ac3b32073d85d08c4c3247b1.resetStyle(e.target);\n",
       "                    }\n",
       "                },\n",
       "                mouseover: function(e) {\n",
       "                    if(typeof e.target.setStyle === &quot;function&quot;){\n",
       "                        const highlightStyle = geo_json_11a8fbf6ac3b32073d85d08c4c3247b1_highlighter(e.target.feature)\n",
       "                        e.target.setStyle(highlightStyle);\n",
       "                    }\n",
       "                },\n",
       "            });\n",
       "        };\n",
       "        var geo_json_11a8fbf6ac3b32073d85d08c4c3247b1 = L.geoJson(null, {\n",
       "                onEachFeature: geo_json_11a8fbf6ac3b32073d85d08c4c3247b1_onEachFeature,\n",
       "            \n",
       "                style: geo_json_11a8fbf6ac3b32073d85d08c4c3247b1_styler,\n",
       "                pointToLayer: geo_json_11a8fbf6ac3b32073d85d08c4c3247b1_pointToLayer,\n",
       "            ...{\n",
       "}\n",
       "        });\n",
       "\n",
       "        function geo_json_11a8fbf6ac3b32073d85d08c4c3247b1_add (data) {\n",
       "            geo_json_11a8fbf6ac3b32073d85d08c4c3247b1\n",
       "                .addData(data);\n",
       "        }\n",
       "            geo_json_11a8fbf6ac3b32073d85d08c4c3247b1_add({&quot;bbox&quot;: [16.77583, 46.53214, 21.96933, 48.52026], &quot;features&quot;: [{&quot;bbox&quot;: [19.5266, 48.18043, 19.5266, 48.18043], &quot;geometry&quot;: {&quot;coordinates&quot;: [19.5266, 48.18043], &quot;type&quot;: &quot;Point&quot;}, &quot;id&quot;: &quot;0&quot;, &quot;properties&quot;: {&quot;is_mped&quot;: 0, &quot;name&quot;: &quot;N\\u00f3gr\\u00e1dszak\\u00e1l&quot;, &quot;place&quot;: &quot;village&quot;, &quot;x&quot;: 19.5266, &quot;y&quot;: 48.18043}, &quot;type&quot;: &quot;Feature&quot;}, {&quot;bbox&quot;: [20.95731, 48.02448, 20.95731, 48.02448], &quot;geometry&quot;: {&quot;coordinates&quot;: [20.95731, 48.02448], &quot;type&quot;: &quot;Point&quot;}, &quot;id&quot;: &quot;1&quot;, &quot;properties&quot;: {&quot;is_mped&quot;: 0, &quot;name&quot;: &quot;Berz\\u00e9k&quot;, &quot;place&quot;: &quot;village&quot;, &quot;x&quot;: 20.95731, &quot;y&quot;: 48.02448}, &quot;type&quot;: &quot;Feature&quot;}, {&quot;bbox&quot;: [18.23987, 47.13777, 18.23987, 47.13777], &quot;geometry&quot;: {&quot;coordinates&quot;: [18.23987, 47.13777], &quot;type&quot;: &quot;Point&quot;}, &quot;id&quot;: &quot;2&quot;, &quot;properties&quot;: {&quot;is_mped&quot;: 0, &quot;name&quot;: &quot;N\\u00e1dasdlad\\u00e1ny&quot;, &quot;place&quot;: &quot;village&quot;, &quot;x&quot;: 18.23987, &quot;y&quot;: 47.13777}, &quot;type&quot;: &quot;Feature&quot;}, {&quot;bbox&quot;: [17.88889, 46.95673, 17.88889, 46.95673], &quot;geometry&quot;: {&quot;coordinates&quot;: [17.88889, 46.95673], &quot;type&quot;: &quot;Point&quot;}, &quot;id&quot;: &quot;3&quot;, &quot;properties&quot;: {&quot;is_mped&quot;: 1, &quot;name&quot;: &quot;Balatonf\\u00fcred&quot;, &quot;place&quot;: &quot;town&quot;, &quot;x&quot;: 17.88889, &quot;y&quot;: 46.95673}, &quot;type&quot;: &quot;Feature&quot;}, {&quot;bbox&quot;: [17.35049, 46.76162, 17.35049, 46.76162], &quot;geometry&quot;: {&quot;coordinates&quot;: [17.35049, 46.76162], &quot;type&quot;: &quot;Point&quot;}, &quot;id&quot;: &quot;4&quot;, &quot;properties&quot;: {&quot;is_mped&quot;: 0, &quot;name&quot;: &quot;Balatongy\\u00f6r\\u00f6k&quot;, &quot;place&quot;: &quot;village&quot;, &quot;x&quot;: 17.35049, &quot;y&quot;: 46.76162}, &quot;type&quot;: &quot;Feature&quot;}, {&quot;bbox&quot;: [17.08648, 46.53214, 17.08648, 46.53214], &quot;geometry&quot;: {&quot;coordinates&quot;: [17.08648, 46.53214], &quot;type&quot;: &quot;Point&quot;}, &quot;id&quot;: &quot;5&quot;, &quot;properties&quot;: {&quot;is_mped&quot;: 0, &quot;name&quot;: &quot;Csapi&quot;, &quot;place&quot;: &quot;village&quot;, &quot;x&quot;: 17.08648, &quot;y&quot;: 46.53214}, &quot;type&quot;: &quot;Feature&quot;}, {&quot;bbox&quot;: [16.77583, 47.28299, 16.77583, 47.28299], &quot;geometry&quot;: {&quot;coordinates&quot;: [16.77583, 47.28299], &quot;type&quot;: &quot;Point&quot;}, &quot;id&quot;: &quot;6&quot;, &quot;properties&quot;: {&quot;is_mped&quot;: 0, &quot;name&quot;: &quot;V\\u00e1t&quot;, &quot;place&quot;: &quot;village&quot;, &quot;x&quot;: 16.77583, &quot;y&quot;: 47.28299}, &quot;type&quot;: &quot;Feature&quot;}, {&quot;bbox&quot;: [20.77575, 48.52026, 20.77575, 48.52026], &quot;geometry&quot;: {&quot;coordinates&quot;: [20.77575, 48.52026], &quot;type&quot;: &quot;Point&quot;}, &quot;id&quot;: &quot;7&quot;, &quot;properties&quot;: {&quot;is_mped&quot;: 0, &quot;name&quot;: &quot;Tornaszentandr\\u00e1s&quot;, &quot;place&quot;: &quot;village&quot;, &quot;x&quot;: 20.77575, &quot;y&quot;: 48.52026}, &quot;type&quot;: &quot;Feature&quot;}, {&quot;bbox&quot;: [21.06403, 48.3556, 21.06403, 48.3556], &quot;geometry&quot;: {&quot;coordinates&quot;: [21.06403, 48.3556], &quot;type&quot;: &quot;Point&quot;}, &quot;id&quot;: &quot;8&quot;, &quot;properties&quot;: {&quot;is_mped&quot;: 0, &quot;name&quot;: &quot;Fancsal&quot;, &quot;place&quot;: &quot;village&quot;, &quot;x&quot;: 21.06403, &quot;y&quot;: 48.3556}, &quot;type&quot;: &quot;Feature&quot;}, {&quot;bbox&quot;: [19.69163, 47.79635, 19.69163, 47.79635], &quot;geometry&quot;: {&quot;coordinates&quot;: [19.69163, 47.79635], &quot;type&quot;: &quot;Point&quot;}, &quot;id&quot;: &quot;9&quot;, &quot;properties&quot;: {&quot;is_mped&quot;: 0, &quot;name&quot;: &quot;Apc&quot;, &quot;place&quot;: &quot;village&quot;, &quot;x&quot;: 19.69163, &quot;y&quot;: 47.79635}, &quot;type&quot;: &quot;Feature&quot;}, {&quot;bbox&quot;: [19.21943, 47.79208, 19.21943, 47.79208], &quot;geometry&quot;: {&quot;coordinates&quot;: [19.21943, 47.79208], &quot;type&quot;: &quot;Point&quot;}, &quot;id&quot;: &quot;10&quot;, &quot;properties&quot;: {&quot;is_mped&quot;: 0, &quot;name&quot;: &quot;R\\u00e1d&quot;, &quot;place&quot;: &quot;village&quot;, &quot;x&quot;: 19.21943, &quot;y&quot;: 47.79208}, &quot;type&quot;: &quot;Feature&quot;}, {&quot;bbox&quot;: [20.57014, 48.33279, 20.57014, 48.33279], &quot;geometry&quot;: {&quot;coordinates&quot;: [20.57014, 48.33279], &quot;type&quot;: &quot;Point&quot;}, &quot;id&quot;: &quot;11&quot;, &quot;properties&quot;: {&quot;is_mped&quot;: 0, &quot;name&quot;: &quot;J\\u00e1kfalva&quot;, &quot;place&quot;: &quot;village&quot;, &quot;x&quot;: 20.57014, &quot;y&quot;: 48.33279}, &quot;type&quot;: &quot;Feature&quot;}, {&quot;bbox&quot;: [18.33185, 47.54758, 18.33185, 47.54758], &quot;geometry&quot;: {&quot;coordinates&quot;: [18.33185, 47.54758], &quot;type&quot;: &quot;Point&quot;}, &quot;id&quot;: &quot;12&quot;, &quot;properties&quot;: {&quot;is_mped&quot;: 0, &quot;name&quot;: &quot;K\\u00f6rnye&quot;, &quot;place&quot;: &quot;village&quot;, &quot;x&quot;: 18.33185, &quot;y&quot;: 47.54758}, &quot;type&quot;: &quot;Feature&quot;}, {&quot;bbox&quot;: [21.96933, 48.32517, 21.96933, 48.32517], &quot;geometry&quot;: {&quot;coordinates&quot;: [21.96933, 48.32517], &quot;type&quot;: &quot;Point&quot;}, &quot;id&quot;: &quot;13&quot;, &quot;properties&quot;: {&quot;is_mped&quot;: 0, &quot;name&quot;: &quot;Ricse&quot;, &quot;place&quot;: &quot;village&quot;, &quot;x&quot;: 21.96933, &quot;y&quot;: 48.32517}, &quot;type&quot;: &quot;Feature&quot;}, {&quot;bbox&quot;: [17.30841, 46.63982, 17.30841, 46.63982], &quot;geometry&quot;: {&quot;coordinates&quot;: [17.30841, 46.63982], &quot;type&quot;: &quot;Point&quot;}, &quot;id&quot;: &quot;14&quot;, &quot;properties&quot;: {&quot;is_mped&quot;: 0, &quot;name&quot;: &quot;Holl\\u00e1d&quot;, &quot;place&quot;: &quot;village&quot;, &quot;x&quot;: 17.30841, &quot;y&quot;: 46.63982}, &quot;type&quot;: &quot;Feature&quot;}], &quot;type&quot;: &quot;FeatureCollection&quot;});\n",
       "\n",
       "        \n",
       "    \n",
       "    geo_json_11a8fbf6ac3b32073d85d08c4c3247b1.bindTooltip(\n",
       "    function(layer){\n",
       "    let div = L.DomUtil.create(&#x27;div&#x27;);\n",
       "    \n",
       "    let handleObject = feature=&gt;typeof(feature)==&#x27;object&#x27; ? JSON.stringify(feature) : feature;\n",
       "    let fields = [&quot;name&quot;, &quot;place&quot;, &quot;is_mped&quot;, &quot;x&quot;, &quot;y&quot;];\n",
       "    let aliases = [&quot;name&quot;, &quot;place&quot;, &quot;is_mped&quot;, &quot;x&quot;, &quot;y&quot;];\n",
       "    let table = &#x27;&lt;table&gt;&#x27; +\n",
       "        String(\n",
       "        fields.map(\n",
       "        (v,i)=&gt;\n",
       "        `&lt;tr&gt;\n",
       "            &lt;th&gt;${aliases[i]}&lt;/th&gt;\n",
       "            \n",
       "            &lt;td&gt;${handleObject(layer.feature.properties[v])}&lt;/td&gt;\n",
       "        &lt;/tr&gt;`).join(&#x27;&#x27;))\n",
       "    +&#x27;&lt;/table&gt;&#x27;;\n",
       "    div.innerHTML=table;\n",
       "    \n",
       "    return div\n",
       "    }\n",
       "    ,{\n",
       "  &quot;sticky&quot;: true,\n",
       "  &quot;className&quot;: &quot;foliumtooltip&quot;,\n",
       "});\n",
       "                     \n",
       "    \n",
       "            geo_json_11a8fbf6ac3b32073d85d08c4c3247b1.addTo(map_c2efb783769aaaacd4aba4823eed8a26);\n",
       "        \n",
       "&lt;/script&gt;\n",
       "&lt;/html&gt;\" style=\"position:absolute;width:100%;height:100%;left:0;top:0;border:none !important;\" allowfullscreen webkitallowfullscreen mozallowfullscreen></iframe></div></div>"
      ],
      "text/plain": [
       "<folium.folium.Map at 0x16434e090>"
      ]
     },
     "execution_count": 48,
     "metadata": {},
     "output_type": "execute_result"
    }
   ],
   "source": [
    "gdf.explore(tiles='carto-db dark_matter')"
   ]
  },
  {
   "cell_type": "code",
   "execution_count": null,
   "id": "12cee700-5f0c-45c2-bc90-653796574657",
   "metadata": {},
   "outputs": [],
   "source": []
  },
  {
   "cell_type": "code",
   "execution_count": 56,
   "id": "75b2665e-b905-4867-88df-326490ea9672",
   "metadata": {},
   "outputs": [
    {
     "data": {
      "text/plain": [
       "matrix([[1, 2]])"
      ]
     },
     "execution_count": 56,
     "metadata": {},
     "output_type": "execute_result"
    }
   ],
   "source": [
    "np.matrix([[1, 2], [3, 4]])[0]"
   ]
  },
  {
   "cell_type": "markdown",
   "id": "7b93410b-6cca-43a7-b0f2-122b774df9f6",
   "metadata": {},
   "source": [
    "## Balaton example for a real life example"
   ]
  },
  {
   "cell_type": "code",
   "execution_count": null,
   "id": "9da146e6-a226-44df-8ef8-8b82130bdd2f",
   "metadata": {},
   "outputs": [],
   "source": []
  }
 ],
 "metadata": {
  "kernelspec": {
   "display_name": "Python 3",
   "language": "python",
   "name": "python3"
  },
  "language_info": {
   "codemirror_mode": {
    "name": "ipython",
    "version": 3
   },
   "file_extension": ".py",
   "mimetype": "text/x-python",
   "name": "python",
   "nbconvert_exporter": "python",
   "pygments_lexer": "ipython3",
   "version": "3.12.7"
  }
 },
 "nbformat": 4,
 "nbformat_minor": 5
}
